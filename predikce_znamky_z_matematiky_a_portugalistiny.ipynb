{
 "cells": [
  {
   "cell_type": "markdown",
   "metadata": {},
   "source": [
    "# Predikce známky z kurzů matematiky a portugalištiny\n",
    "\n",
    "Predikce finální známky z kurzů matematiky a portugalištiny na základě rodinného zázemí a konzumace alkoholu. Dataset obsahuje 33 atributů a je dostupný z https://www.kaggle.com/uciml/student-alcohol-consumption"
   ]
  },
  {
   "cell_type": "markdown",
   "metadata": {},
   "source": [
    "## Původní popis z kagglu\n",
    "\n",
    "### Context\n",
    "\n",
    "The data were obtained in a survey of students math and portuguese language courses in secondary school. It contains a lot of interesting social, gender and study information about students. You can use it for some EDA or try to predict students final grade.\n",
    "\n",
    "### Content\n",
    "\n",
    "Attributes for both student-mat.csv (Math course) and student-por.csv (Portuguese language course) datasets:\n",
    "\n",
    "- school - student's school (binary: 'GP' - Gabriel Pereira or 'MS' - Mousinho da Silveira)\n",
    "- sex - student's sex (binary: 'F' - female or 'M' - male)\n",
    "- age - student's age (numeric: from 15 to 22)\n",
    "- address - student's home address type (binary: 'U' - urban or 'R' - rural)\n",
    "- famsize - family size (binary: 'LE3' - less or equal to 3 or 'GT3' - greater than 3)\n",
    "- Pstatus - parent's cohabitation status (binary: 'T' - living together or 'A' - apart)\n",
    "- Medu - mother's education (numeric: 0 - none, 1 - primary education (4th grade), 2 – 5th to 9th grade, 3 – secondary education or 4 – higher education)\n",
    "- Fedu - father's education (numeric: 0 - none, 1 - primary education (4th grade), 2 – 5th to 9th grade, 3 – secondary education or 4 – higher education)\n",
    "- Mjob - mother's job (nominal: 'teacher', 'health' care related, civil 'services' (e.g. administrative or police), 'at_home' or 'other')\n",
    "- Fjob - father's job (nominal: 'teacher', 'health' care related, civil 'services' (e.g. administrative or police), 'at_home' or 'other')\n",
    "- reason - reason to choose this school (nominal: close to 'home', school 'reputation', 'course' preference or 'other')\n",
    "- guardian - student's guardian (nominal: 'mother', 'father' or 'other')\n",
    "- traveltime - home to school travel time (numeric: 1 - 1 hour)\n",
    "- studytime - weekly study time (numeric: 1 - 10 hours)\n",
    "- failures - number of past class failures (numeric: n if 1<=n<3, else 4)\n",
    "- schoolsup - extra educational support (binary: yes or no)\n",
    "- famsup - family educational support (binary: yes or no)\n",
    "- paid - extra paid classes within the course subject (Math or Portuguese) (binary: yes or no)\n",
    "- activities - extra-curricular activities (binary: yes or no)\n",
    "- nursery - attended nursery school (binary: yes or no)\n",
    "- higher - wants to take higher education (binary: yes or no)\n",
    "- internet - Internet access at home (binary: yes or no)\n",
    "- romantic - with a romantic relationship (binary: yes or no)\n",
    "- famrel - quality of family relationships (numeric: from 1 - very bad to 5 - excellent)\n",
    "- freetime - free time after school (numeric: from 1 - very low to 5 - very high)\n",
    "- goout - going out with friends (numeric: from 1 - very low to 5 - very high)\n",
    "- Dalc - workday alcohol consumption (numeric: from 1 - very low to 5 - very high)\n",
    "- Walc - weekend alcohol consumption (numeric: from 1 - very low to 5 - very high)\n",
    "- health - current health status (numeric: from 1 - very bad to 5 - very good)\n",
    "- absences - number of school absences (numeric: from 0 to 93)\n",
    "\n",
    "These grades are related with the course subject, Math or Portuguese:\n",
    "\n",
    "1. G1 - first period grade (numeric: from 0 to 20)\n",
    "2. G2 - second period grade (numeric: from 0 to 20)\n",
    "3. G3 - final grade (numeric: from 0 to 20, output target)"
   ]
  },
  {
   "cell_type": "markdown",
   "metadata": {},
   "source": [
    "## Načtení dat z CSV"
   ]
  },
  {
   "cell_type": "code",
   "execution_count": 66,
   "metadata": {},
   "outputs": [],
   "source": [
    "import pandas as pd\n",
    "\n",
    "math = pd.read_csv(\"data/student-mat.csv\")\n",
    "portuguese = pd.read_csv(\"data/student-por.csv\")"
   ]
  },
  {
   "cell_type": "markdown",
   "metadata": {},
   "source": [
    "## Atributy datasetu matematiky\n",
    "Dataset předmětu matematiky má 395 záznamů."
   ]
  },
  {
   "cell_type": "code",
   "execution_count": 67,
   "metadata": {
    "scrolled": false
   },
   "outputs": [
    {
     "name": "stdout",
     "output_type": "stream",
     "text": [
      "Math attributes with number of records:\n",
      "\n",
      "school        395\n",
      "sex           395\n",
      "age           395\n",
      "address       395\n",
      "famsize       395\n",
      "Pstatus       395\n",
      "Medu          395\n",
      "Fedu          395\n",
      "Mjob          395\n",
      "Fjob          395\n",
      "reason        395\n",
      "guardian      395\n",
      "traveltime    395\n",
      "studytime     395\n",
      "failures      395\n",
      "schoolsup     395\n",
      "famsup        395\n",
      "paid          395\n",
      "activities    395\n",
      "nursery       395\n",
      "higher        395\n",
      "internet      395\n",
      "romantic      395\n",
      "famrel        395\n",
      "freetime      395\n",
      "goout         395\n",
      "Dalc          395\n",
      "Walc          395\n",
      "health        395\n",
      "absences      395\n",
      "G1            395\n",
      "G2            395\n",
      "G3            395\n",
      "dtype: int64\n"
     ]
    }
   ],
   "source": [
    "math_records_count = math.count()\n",
    "math_records_len = len(math)\n",
    "\n",
    "print('Math attributes with number of records:\\n')\n",
    "print(math_records_count)"
   ]
  },
  {
   "cell_type": "markdown",
   "metadata": {},
   "source": [
    "## Atributy datasetu portugalštiny\n",
    "Dataset předmětu portugalštiny má 649 záznamů."
   ]
  },
  {
   "cell_type": "code",
   "execution_count": 68,
   "metadata": {},
   "outputs": [
    {
     "name": "stdout",
     "output_type": "stream",
     "text": [
      "Potruguese attributes with number of records:\n",
      "\n",
      "school        649\n",
      "sex           649\n",
      "age           649\n",
      "address       649\n",
      "famsize       649\n",
      "Pstatus       649\n",
      "Medu          649\n",
      "Fedu          649\n",
      "Mjob          649\n",
      "Fjob          649\n",
      "reason        649\n",
      "guardian      649\n",
      "traveltime    649\n",
      "studytime     649\n",
      "failures      649\n",
      "schoolsup     649\n",
      "famsup        649\n",
      "paid          649\n",
      "activities    649\n",
      "nursery       649\n",
      "higher        649\n",
      "internet      649\n",
      "romantic      649\n",
      "famrel        649\n",
      "freetime      649\n",
      "goout         649\n",
      "Dalc          649\n",
      "Walc          649\n",
      "health        649\n",
      "absences      649\n",
      "G1            649\n",
      "G2            649\n",
      "G3            649\n",
      "dtype: int64\n"
     ]
    }
   ],
   "source": [
    "potuguese_records_count = portuguese.count()\n",
    "potuguese_records_len = len(portuguese)\n",
    "\n",
    "print('Potruguese attributes with number of records:\\n')\n",
    "print(potuguese_records_count)"
   ]
  },
  {
   "cell_type": "markdown",
   "metadata": {},
   "source": [
    "## Sloučení datasetů\n",
    "Někteří studenti jsou zároveň v obou předmětech. Data jsou anonymizovaná a neobsahují jednoznačné identifikátory, podle kterých by se daly datasety snadno sloučit.  \n",
    "Autoři doporučují sloučit datasety podle atributů, které jsou pro každého studenta v obou předmětech totožné a identifikují je tak. Sami vytvořili soubor v R, který datasety slučuje a vyšlo jim 382 studentů, kteří mají oba předměty. Nicméně v [diskuzi k datasetu](https://www.kaggle.com/uciml/student-alcohol-consumption/discussion/26889) uživatelé jejich přístup zpochybňují, protože nevyužili všechny atributy, které jsou pro oba předměty společné.  \n",
    "Pro sloučení datasetů byly tedy použity všechny atributy kromě následujících specifických pro konkrétní předmět:\n",
    "- failures - počet neúspěšných absolvování\n",
    "- paid - zda byly placené lekce navíc\n",
    "- absences - počet absencí\n",
    "- G1\n",
    "- G2\n",
    "- G3"
   ]
  },
  {
   "cell_type": "code",
   "execution_count": 69,
   "metadata": {},
   "outputs": [],
   "source": [
    "identical_attributes = [\n",
    "    \"school\",\n",
    "    \"sex\",\n",
    "    \"age\",\n",
    "    \"address\",\n",
    "    \"famsize\",\n",
    "    \"Pstatus\",\n",
    "    \"Medu\",\n",
    "    \"Fedu\",\n",
    "    \"Mjob\",\n",
    "    \"Fjob\",\n",
    "    \"reason\",\n",
    "    \"guardian\",\n",
    "    \"traveltime\",\n",
    "    \"studytime\",\n",
    "    \"schoolsup\",\n",
    "    \"famsup\",\n",
    "    \"activities\",\n",
    "    \"nursery\",\n",
    "    \"higher\",\n",
    "    \"internet\",\n",
    "    \"romantic\",\n",
    "    \"famrel\",\n",
    "    \"freetime\",\n",
    "    \"goout\",\n",
    "    \"Dalc\",\n",
    "    \"Walc\",\n",
    "    \"health\"\n",
    "]\n",
    "\n",
    "both_courses = math.merge(\n",
    "    portuguese,\n",
    "    how='outer',\n",
    "    on=identical_attributes,\n",
    "    suffixes=('_math', '_portuguese')\n",
    ")"
   ]
  },
  {
   "cell_type": "markdown",
   "metadata": {},
   "source": [
    "> - Byla použita funkce `pandas.DataFrame.merge` pro sloučení dvou DataFramů.\n",
    "> - Parametr `how=outer` sloučí všechna dostupná data obou DataFramů a žádná nevynechá.\n",
    "> - Parametr `on=identical_attributes` provede outer join s kombinací identických atributů pro oba DataFramy. Tyto atributy slouží jako indexy.\n",
    "> - Paramter `suffixes=('_math', '_portuguese')` vytvoří, v případě shodných atributů s rozdílnými hodnotami, nové sloupce významově náležící konkrétnímu předmětu."
   ]
  },
  {
   "cell_type": "markdown",
   "metadata": {},
   "source": [
    "## Atributy sloučeného datasetu obou předmětů"
   ]
  },
  {
   "cell_type": "code",
   "execution_count": 78,
   "metadata": {},
   "outputs": [
    {
     "name": "stdout",
     "output_type": "stream",
     "text": [
      "All merged attributes with number of records:\n",
      "\n",
      "school                 674\n",
      "sex                    674\n",
      "age                    674\n",
      "address                674\n",
      "famsize                674\n",
      "Pstatus                674\n",
      "Medu                   674\n",
      "Fedu                   674\n",
      "Mjob                   674\n",
      "Fjob                   674\n",
      "reason                 674\n",
      "guardian               674\n",
      "traveltime             674\n",
      "studytime              674\n",
      "failures_math          395\n",
      "schoolsup              674\n",
      "famsup                 674\n",
      "paid_math              395\n",
      "activities             674\n",
      "nursery                674\n",
      "higher                 674\n",
      "internet               674\n",
      "romantic               674\n",
      "famrel                 674\n",
      "freetime               674\n",
      "goout                  674\n",
      "Dalc                   674\n",
      "Walc                   674\n",
      "health                 674\n",
      "absences_math          395\n",
      "G1_math                395\n",
      "G2_math                395\n",
      "G3_math                395\n",
      "failures_portuguese    649\n",
      "paid_portuguese        649\n",
      "absences_portuguese    649\n",
      "G1_portuguese          649\n",
      "G2_portuguese          649\n",
      "G3_portuguese          649\n",
      "dtype: int64\n",
      "\n",
      "Number of students only in math class: 279\n",
      "Number of students only in portuguese class: 25\n",
      "Number of students in both classes: 370\n",
      "Number of all students: 674\n"
     ]
    }
   ],
   "source": [
    "all_records_count = both_courses.count()\n",
    "both_courses_records_len = len(both_courses)\n",
    "\n",
    "only_math_records_len = both_courses_records_len - math_records_len\n",
    "only_potuguese_records_len = both_courses_records_len - potuguese_records_len\n",
    "only_both_records_len = both_courses_records_len - (only_math_records_len + only_potuguese_records_len)\n",
    "\n",
    "all_students_len = only_math_records_len + only_potuguese_records_len + only_both_records_len\n",
    "\n",
    "print('All merged attributes with number of records:\\n')\n",
    "print(all_records_count)\n",
    "\n",
    "print(f'\\nNumber of students only in math class: {only_math_records_len}')\n",
    "print(f'Number of students only in portuguese class: {only_potuguese_records_len}')\n",
    "print(f'Number of students in both classes: {only_both_records_len}')\n",
    "print(f'Number of all students: {all_students_len}')"
   ]
  },
  {
   "cell_type": "code",
   "execution_count": null,
   "metadata": {},
   "outputs": [],
   "source": []
  }
 ],
 "metadata": {
  "kernelspec": {
   "display_name": "Python 3",
   "language": "python",
   "name": "python3"
  },
  "language_info": {
   "codemirror_mode": {
    "name": "ipython",
    "version": 3
   },
   "file_extension": ".py",
   "mimetype": "text/x-python",
   "name": "python",
   "nbconvert_exporter": "python",
   "pygments_lexer": "ipython3",
   "version": "3.7.0"
  }
 },
 "nbformat": 4,
 "nbformat_minor": 2
}
